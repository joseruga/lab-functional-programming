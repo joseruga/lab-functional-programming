{
 "cells": [
  {
   "cell_type": "markdown",
   "metadata": {},
   "source": [
    "In the cell below, create a Python function that wraps your previous solution for the Bag of Words lab.\n",
    "\n",
    "Requirements:\n",
    "\n",
    "1. Your function should accept the following parameters:\n",
    "    * `docs` [REQUIRED] - array of document paths.\n",
    "    * `stop_words` [OPTIONAL] - array of stop words. The default value is an empty array.\n",
    "\n",
    "1. Your function should return a Python object that contains the following:\n",
    "    * `bag_of_words` - array of strings of normalized unique words in the corpus.\n",
    "    * `term_freq` - array of the term-frequency vectors."
   ]
  },
  {
   "cell_type": "code",
   "execution_count": 1,
   "metadata": {},
   "outputs": [],
   "source": [
    "# Import required libraries\n",
    "\n",
    "# Define function\n",
    "def get_bow_from_docs(docs, stop_words=[]):\n",
    "    \n",
    "    # In the function, first define the variables you will use such as `corpus`, `bag_of_words`, and `term_freq`.\n",
    "    corpus=[]\n",
    "    term_freq=[]\n",
    "    bag_of_words=[]\n",
    "    \"\"\"\n",
    "    Loop `docs` and read the content of each doc into a string in `corpus`.\n",
    "    Remember to convert the doc content to lowercases and remove punctuation.\n",
    "    \"\"\"\n",
    "\n",
    "    for doc in docs:\n",
    "        file=open(doc)\n",
    "        text=file.read()\n",
    "        f_txt=text.lower().replace('.','')\n",
    "        corpus.append(f_txt)\n",
    "    \n",
    "    \"\"\"\n",
    "    Loop `corpus`. Append the terms in each doc into the `bag_of_words` array. The terms in `bag_of_words` \n",
    "    should be unique which means before adding each term you need to check if it's already added to the array.\n",
    "    In addition, check if each term is in the `stop_words` array. Only append the term to `bag_of_words`\n",
    "    if it is not a stop word.\n",
    "    \"\"\"\n",
    "\n",
    "    for text_part in corpus:\n",
    "        txt_list=text_part.split()\n",
    "        for word in txt_list:\n",
    "            if word not in bag_of_words and word not in stop_words:\n",
    "                bag_of_words.append(word)\n",
    "    \n",
    "    \n",
    "    \"\"\"\n",
    "    Loop `corpus` again. For each doc string, count the number of occurrences of each term in `bag_of_words`. \n",
    "    Create an array for each doc's term frequency and append it to `term_freq`.\n",
    "    \"\"\"\n",
    "\n",
    "    for txt_part2 in corpus:\n",
    "        counts=[]\n",
    "        for word2 in bag_of_words:\n",
    "            counts.append(txt_part2.split().count(word2))\n",
    "        term_freq.append(counts)\n",
    "    \n",
    "    # Now return your output as an object\n",
    "    return {\n",
    "        \"bag_of_words\": bag_of_words,\n",
    "        \"term_freq\": term_freq\n",
    "    }\n",
    "    "
   ]
  },
  {
   "cell_type": "markdown",
   "metadata": {},
   "source": [
    "Test your function without stop words. You should see the output like below:\n",
    "\n",
    "```{'bag_of_words': ['ironhack', 'is', 'cool', 'i', 'love', 'am', 'a', 'student', 'at'], 'term_freq': [[1, 1, 1, 0, 0, 0, 0, 0, 0], [1, 0, 0, 1, 1, 0, 0, 0, 0], [1, 0, 0, 1, 0, 1, 1, 1, 1]]}```"
   ]
  },
  {
   "cell_type": "code",
   "execution_count": 2,
   "metadata": {},
   "outputs": [
    {
     "name": "stdout",
     "output_type": "stream",
     "text": [
      "{'bag_of_words': ['ironhack', 'is', 'cool', 'i', 'love', 'am', 'a', 'student', 'at'], 'term_freq': [[1, 1, 1, 0, 0, 0, 0, 0, 0], [1, 0, 0, 1, 1, 0, 0, 0, 0], [1, 0, 0, 1, 0, 1, 1, 1, 1]]}\n"
     ]
    }
   ],
   "source": [
    "# Define doc paths array\n",
    "docs = ['doc1.txt', 'doc2.txt', 'doc3.txt']\n",
    "\n",
    "# Obtain BoW from your function\n",
    "bow = get_bow_from_docs(docs)\n",
    "\n",
    "# Print BoW\n",
    "print(bow)"
   ]
  },
  {
   "cell_type": "markdown",
   "metadata": {},
   "source": [
    "If your attempt above is successful, nice work done!\n",
    "\n",
    "Now test your function again with the stop words. In the previous lab we defined the stop words in a large array. In this lab, we'll import the stop words from Scikit-Learn."
   ]
  },
  {
   "cell_type": "code",
   "execution_count": 3,
   "metadata": {},
   "outputs": [
    {
     "name": "stdout",
     "output_type": "stream",
     "text": [
      "frozenset({'hasnt', 'from', 'part', 'sometime', 'will', 'among', 'former', 'via', 'along', 'become', 'not', 'she', 'mill', 'much', 'three', 'therefore', 'them', 'even', 'please', 'none', 'formerly', 'done', 'fill', 'so', 'an', 'whereas', 'of', 'amoungst', 'when', 'keep', 'same', 'they', 'less', 'towards', 'meanwhile', 'eg', 'whole', 'beforehand', 'more', 'up', 'has', 'however', 'name', 'whereafter', 'twenty', 'but', 'enough', 'most', 'ever', 'been', 'five', 'together', 'latter', 'our', 'toward', 'without', 'if', 'un', 'ours', 'fifteen', 'only', 'there', 'further', 'and', 'elsewhere', 'fire', 'you', 'almost', 'cannot', 'myself', 'any', 'what', 'beyond', 'anyhow', 'whom', 'itself', 'my', 'side', 'am', 'go', 'still', 'put', 're', 'see', 'whence', 'whereupon', 'otherwise', 'thereafter', 'latterly', 'neither', 'seem', 'with', 'are', 'upon', 'either', 'somehow', 'were', 'becomes', 'few', 'over', 'thru', 'found', 'to', 'beside', 'yourself', 'ltd', 'empty', 'off', 'too', 'find', 'cry', 'take', 'made', 'us', 'often', 'why', 'than', 'thereby', 'nor', 'everything', 'after', 'at', 'on', 'ten', 'both', 'must', 'seemed', 'whereby', 'now', 'thick', 'due', 'very', 'namely', 'give', 'some', 'else', 'thin', 'another', 'then', 'amount', 'sixty', 'whether', 'etc', 'co', 'can', 'forty', 'yourselves', 'i', 'out', 'might', 'afterwards', 'he', 'nine', 'others', 'ourselves', 'serious', 'six', 'where', 'everywhere', 'two', 'de', 'we', 'except', 'whenever', 'should', 'could', 'whose', 'may', 'hereupon', 'anyway', 'next', 'detail', 'her', 'front', 'do', 'fifty', 'anyone', 'nowhere', 'also', 'amongst', 'nothing', 'seems', 'system', 'becoming', 'against', 'yet', 'yours', 'through', 'had', 'indeed', 'as', 'down', 'nobody', 'other', 'back', 'third', 'somewhere', 'bottom', 'themselves', 'moreover', 'became', 'wherein', 'hundred', 'between', 'first', 'those', 'me', 'always', 'four', 'hers', 'noone', 'hereby', 'into', 'ie', 'which', 'seeming', 'such', 'bill', 'already', 'it', 'for', 'couldnt', 'be', 'these', 'whatever', 'perhaps', 'cant', 'its', 'each', 'move', 'whither', 'last', 'describe', 'under', 'one', 'per', 'their', 'himself', 'alone', 'who', 'hence', 'is', 'him', 'whoever', 'thereupon', 'until', 'by', 'someone', 'every', 'across', 'interest', 'nevertheless', 'your', 'below', 'though', 'twelve', 'his', 'own', 'onto', 'mine', 'behind', 'being', 'a', 'here', 'hereafter', 'before', 'many', 'top', 'because', 'con', 'anywhere', 'have', 'while', 'anything', 'around', 'sincere', 'herself', 'thus', 'full', 'call', 'least', 'show', 'above', 'get', 'about', 'herein', 'was', 'inc', 'never', 'would', 'although', 'something', 'no', 'during', 'how', 'throughout', 'within', 'in', 'therein', 'mostly', 'once', 'eight', 'eleven', 'everyone', 'or', 'sometimes', 'this', 'thence', 'since', 'several', 'again', 'wherever', 'all', 'rather', 'that', 'well', 'the', 'besides'})\n"
     ]
    },
    {
     "name": "stderr",
     "output_type": "stream",
     "text": [
      "/Users/chemaramos/opt/anaconda3/lib/python3.8/site-packages/sklearn/utils/deprecation.py:143: FutureWarning: The sklearn.feature_extraction.stop_words module is  deprecated in version 0.22 and will be removed in version 0.24. The corresponding classes / functions should instead be imported from sklearn.feature_extraction.text. Anything that cannot be imported from sklearn.feature_extraction.text is now part of the private API.\n",
      "  warnings.warn(message, FutureWarning)\n"
     ]
    }
   ],
   "source": [
    "from sklearn.feature_extraction import stop_words\n",
    "print(stop_words.ENGLISH_STOP_WORDS)"
   ]
  },
  {
   "cell_type": "markdown",
   "metadata": {},
   "source": [
    "You should have seen a large list of words that looks like:\n",
    "\n",
    "```frozenset({'across', 'mine', 'cannot', ...})```\n",
    "\n",
    "`frozenset` is a type of Python object that is immutable. In this lab you can use it just like an array without conversion."
   ]
  },
  {
   "cell_type": "markdown",
   "metadata": {},
   "source": [
    "Next, test your function with supplying `stop_words.ENGLISH_STOP_WORDS` as the second parameter."
   ]
  },
  {
   "cell_type": "code",
   "execution_count": 4,
   "metadata": {},
   "outputs": [
    {
     "name": "stdout",
     "output_type": "stream",
     "text": [
      "{'bag_of_words': ['ironhack', 'cool', 'love', 'student'], 'term_freq': [[1, 1, 0, 0], [1, 0, 1, 0], [1, 0, 0, 1]]}\n"
     ]
    }
   ],
   "source": [
    "bow = get_bow_from_docs(docs, stop_words.ENGLISH_STOP_WORDS)\n",
    "\n",
    "print(bow)"
   ]
  },
  {
   "cell_type": "markdown",
   "metadata": {},
   "source": [
    "You should have seen:\n",
    "\n",
    "```{'bag_of_words': ['ironhack', 'cool', 'love', 'student'], 'term_freq': [[1, 1, 0, 0], [1, 0, 1, 0], [1, 0, 0, 1]]}```"
   ]
  },
  {
   "cell_type": "code",
   "execution_count": null,
   "metadata": {},
   "outputs": [],
   "source": []
  }
 ],
 "metadata": {
  "kernelspec": {
   "display_name": "Python 3",
   "language": "python",
   "name": "python3"
  },
  "language_info": {
   "codemirror_mode": {
    "name": "ipython",
    "version": 3
   },
   "file_extension": ".py",
   "mimetype": "text/x-python",
   "name": "python",
   "nbconvert_exporter": "python",
   "pygments_lexer": "ipython3",
   "version": "3.8.3"
  }
 },
 "nbformat": 4,
 "nbformat_minor": 2
}
